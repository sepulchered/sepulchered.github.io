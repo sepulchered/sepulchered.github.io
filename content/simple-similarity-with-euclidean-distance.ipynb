{
 "metadata": {
  "name": "",
  "signature": "sha256:1f437a26a55958424acb2c4b12a53968f925108cf8d320512cda60822fd214e3"
 },
 "nbformat": 3,
 "nbformat_minor": 0,
 "worksheets": [
  {
   "cells": [
    {
     "cell_type": "markdown",
     "metadata": {},
     "source": [
      "#Simple similarity score with Euclidean distance#\n",
      "\n",
      "Some time ago I started getting into machine learning and connected domains. I didn't know where to start so I decided to start with similarity. I'm a huge fan of data processing and data visualization. One of my favorite site is [last.fm](http://www.last.fm) that collects data of your music habbits, recommends new music and shows your music tastes similarity to other users (also they have api).\n",
      "\n",
      "Here I will get data (10 most listened artists) by hand from my [last.fm profile](http://www.last.fm/user/sepulchered) and compare my tastes to my friends (hope they won't be agaist me showing their musical tastes) in order to check who of them has most similar tastes to mine. Here we suppose that user rates artist by number of listened tracks of that artist. We can say that it's not a good idea, but hey, if you listed 2000 songs of one artist and just 500 of another I think that it shows some preferences in music. Anyway it's not the case here for getting the idea of what Euclidean distance is.\n",
      "\n",
      "Here is the data:"
     ]
    },
    {
     "cell_type": "code",
     "collapsed": false,
     "input": [
      "last_fm_data = {\n",
      "    'sepulchered': {\n",
      "        'Radiohead': 2702,\n",
      "        'Tuxedomoon': 2607,\n",
      "        'Kasabian': 2021,\n",
      "        'The Cure': 1799,\n",
      "        'The Music': 1665,\n",
      "        'Incubus': 1428,\n",
      "        'Faith No More': 1327,\n",
      "        'Joy Division': 1314,\n",
      "        'Slayer': 1271,\n",
      "        'A-Ha': 1248\n",
      "    },\n",
      "    'aboblchso': {\n",
      "        'Radiohead': 623,\n",
      "        'Tuxedomoon': 0,\n",
      "        'Kasabian': 12,\n",
      "        'The Cure': 235,\n",
      "        'The Music': 0,\n",
      "        'Incubus': 234,\n",
      "        'Faith No More': 16,\n",
      "        'Joy Division': 74,\n",
      "        'Slayer': 0,\n",
      "        'A-Ha': 2\n",
      "    },\n",
      "    'blackw00n': {\n",
      "        'Radiohead': 193,\n",
      "        'Tuxedomoon': 18,\n",
      "        'Kasabian': 59,\n",
      "        'The Cure': 23,\n",
      "        'The Music': 83,\n",
      "        'Incubus': 5,\n",
      "        'Faith No More': 3,\n",
      "        'Joy Division': 3,\n",
      "        'Slayer': 1,\n",
      "        'A-Ha': 0\n",
      "    },\n",
      "    'canningham': {\n",
      "        'Radiohead': 4332,\n",
      "        'Tuxedomoon': 0,\n",
      "        'Kasabian': 177,\n",
      "        'The Cure': 0,\n",
      "        'The Music': 0,\n",
      "        'Incubus': 0,\n",
      "        'Faith No More': 0,\n",
      "        'Joy Division': 63,\n",
      "        'Slayer': 0,\n",
      "        'A-Ha': 4\n",
      "    },\n",
      "    'ladyyvii': {\n",
      "        'Radiohead': 25,\n",
      "        'Tuxedomoon': 0,\n",
      "        'Kasabian': 13,\n",
      "        'The Cure': 2,\n",
      "        'The Music': 0,\n",
      "        'Incubus': 4,\n",
      "        'Faith No More': 2,\n",
      "        'Joy Division': 4,\n",
      "        'Slayer': 0,\n",
      "        'A-Ha': 0\n",
      "    },\n",
      "    'Prantz': {\n",
      "        'Radiohead': 10,\n",
      "        'Tuxedomoon': 0,\n",
      "        'Kasabian': 0,\n",
      "        'The Cure': 133,\n",
      "        'The Music': 0,\n",
      "        'Incubus': 0,\n",
      "        'Faith No More': 3,\n",
      "        'Joy Division': 140,\n",
      "        'Slayer': 0,\n",
      "        'A-Ha': 8\n",
      "    }\n",
      "}"
     ],
     "language": "python",
     "metadata": {},
     "outputs": [],
     "prompt_number": 1
    },
    {
     "cell_type": "markdown",
     "metadata": {},
     "source": [
      "##Data interpretation##\n",
      "We can interpret this data as points in n-dimensional space, where n is the number on artists.\n",
      "Thus we can check how far point of each user is from point of another user by calculating the distance between these points.\n",
      "\n",
      "e.g. we can represent it for 2 artists The Cure and Kasabian. We'll use The Cure as X's and Kasabian as Y's:\n"
     ]
    },
    {
     "cell_type": "code",
     "collapsed": false,
     "input": [
      "%matplotlib inline\n",
      "\n",
      "import matplotlib.pyplot as plt\n",
      "\n",
      "\n",
      "cures = [last_fm_data[user]['The Cure'] for user in last_fm_data]\n",
      "kasabians = [last_fm_data[user]['Kasabian'] for user in last_fm_data] \n",
      "print('The Cure: {{{};{}}}; Kasabian: {{{};{}}}'.format(min(cures), max(cures), min(kasabians), max(kasabians)))\n",
      "\n",
      "plt.plot(cures, kasabians, 'ro')\n",
      "plt.axis([-100, 1900, -100, 2100])\n",
      "plt.xlabel('The Cure')\n",
      "plt.ylabel('Kasabian')\n",
      "plt.show()"
     ],
     "language": "python",
     "metadata": {},
     "outputs": [
      {
       "output_type": "stream",
       "stream": "stdout",
       "text": [
        "The Cure: {0;1799}; Kasabian: {0;2021}\n"
       ]
      },
      {
       "metadata": {},
       "output_type": "display_data",
       "png": "[encoded data removed]",
       "text": [
        "<matplotlib.figure.Figure at 0x7f62a007f518>"
       ]
      }
     ],
     "prompt_number": 24
    },
    {
     "cell_type": "markdown",
     "metadata": {},
     "source": [
      "See that top right dot on the picture? It's me :)\n",
      "\n",
      "So now we need to check the distance between these dots(users) and here is the formula for 2 users:\n",
      "\n",
      "$dpq = \\sqrt{(user_1[artist_1] - user_2[artis_1])^2 + ... + (user_1[artist_n] - user_2[artist_n])^2} = \\sqrt{\\sum\\limits_{i=1}^n (user_1[artist_i] - user_2[artist_i])^2}$\n",
      "\n",
      "##Simple pure python implementation##\n",
      "Here we implement a function that will calculate the distance."
     ]
    },
    {
     "cell_type": "code",
     "collapsed": false,
     "input": [
      "from math import sqrt\n",
      "\n",
      "\n",
      "def euclidean_distance(data, user1, user2):\n",
      "    return sqrt(sum((data[user1][artist] - data[user2][artist])**2 for artist in data[user1]))"
     ],
     "language": "python",
     "metadata": {},
     "outputs": [],
     "prompt_number": 26
    },
    {
     "cell_type": "markdown",
     "metadata": {},
     "source": [
      "Please note that all users in our last_fm_data dictionary has the same keys. If they didn't we would have to use only those that were in both user's data.\n",
      "\n",
      "Let's look what it gives us"
     ]
    },
    {
     "cell_type": "code",
     "collapsed": false,
     "input": [
      "rating = []\n",
      "for user in last_fm_data:\n",
      "    if user != 'sepulchered':\n",
      "        rating.append((user, euclidean_distance(last_fm_data, 'sepulchered', user)))\n",
      "\n",
      "for user in rating:\n",
      "    print('{}\\'s distance to sepulchered is {}'.format(user[0], user[1]))"
     ],
     "language": "python",
     "metadata": {},
     "outputs": [
      {
       "output_type": "stream",
       "stream": "stdout",
       "text": [
        "blackw00n's distance to sepulchered is 5583.1331705414295\n",
        "ladyyvii's distance to sepulchered is 5715.655867877282\n",
        "Prantz's distance to sepulchered is 5656.766921130833\n",
        "aboblchso's distance to sepulchered is 5312.532917545076\n",
        "canningham's distance to sepulchered is 5233.584049196114\n"
       ]
      }
     ],
     "prompt_number": 34
    },
    {
     "cell_type": "markdown",
     "metadata": {},
     "source": [
      "In this way we can calculate the distance between dots, but we want to see people with similar tastes, thus we need to check users with less distance.\n",
      "\n",
      "So in order bigger values to mean more similarity we can use recirocal in this way:\n",
      "\n",
      "$\\cfrac{1}{distance}$"
     ]
    },
    {
     "cell_type": "code",
     "collapsed": false,
     "input": [
      "rating = sorted([(rate[0], 1/rate[1]) for rate in rating], key=lambda rate: -rate[1])\n",
      "\n",
      "for user in rating:\n",
      "    print('{}\\'s distance to sepulchered is {}'.format(user[0], user[1]))"
     ],
     "language": "python",
     "metadata": {},
     "outputs": [
      {
       "output_type": "stream",
       "stream": "stdout",
       "text": [
        "canningham's distance to sepulchered is 0.00019107364868891356\n",
        "aboblchso's distance to sepulchered is 0.00018823412777310385\n",
        "blackw00n's distance to sepulchered is 0.00017911089874702451\n",
        "Prantz's distance to sepulchered is 0.00017677942435006532\n",
        "ladyyvii's distance to sepulchered is 0.00017495804910511287\n"
       ]
      }
     ],
     "prompt_number": 37
    },
    {
     "cell_type": "markdown",
     "metadata": {},
     "source": [
      "So we can see that the best match with my music tastes is canningham's tastes.\n",
      "\n",
      "##Conclusion##\n",
      "I this post I've shown simple metric for calculating similarity between objects the Euclidean Distance.\n",
      "Also there is more that can be said about this metric, but this post is big already. You can comment on usage examples and you experience with this metric.\n",
      "\n",
      "FYI there is function implemented in scipy that do what we has just made: `scipy.spatial.distance.euclidean`. \n",
      "\n",
      "P.S: Also for processing big chunks of data you can use pandas (and should), but I wanted to show things in easy pure python way for the sake of simplicity."
     ]
    },
    {
     "cell_type": "code",
     "collapsed": false,
     "input": [],
     "language": "python",
     "metadata": {},
     "outputs": []
    }
   ],
   "metadata": {}
  }
 ]
}